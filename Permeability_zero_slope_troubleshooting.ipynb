{
 "cells": [
  {
   "cell_type": "code",
   "execution_count": 1,
   "metadata": {
    "collapsed": true,
    "ExecuteTime": {
     "end_time": "2024-10-22T15:32:52.021094Z",
     "start_time": "2024-10-22T15:32:26.430731Z"
    }
   },
   "outputs": [],
   "source": [
    "import matplotlib.pyplot as plt\n",
    "from matplotlib import colormaps\n",
    "import numpy as np\n",
    "import csv\n",
    "import random\n",
    "import pandas as pd\n",
    "import scipy.stats as st"
   ]
  },
  {
   "cell_type": "code",
   "execution_count": 2,
   "outputs": [],
   "source": [
    "#give the file names that we will be analyzing. Need a calibration file and a run file should match\n",
    "name='with_watchdogandpi_controlfilms_240625'\n",
    "run_file=pd.read_csv('./'+name+'.csv',header=0)\n",
    "calibration=pd.read_csv('./'+name+'calibration.csv',header=0)"
   ],
   "metadata": {
    "collapsed": false,
    "ExecuteTime": {
     "end_time": "2024-10-22T15:33:02.627765Z",
     "start_time": "2024-10-22T15:33:02.519689Z"
    }
   }
  },
  {
   "cell_type": "code",
   "execution_count": 3,
   "outputs": [
    {
     "name": "stdout",
     "output_type": "stream",
     "text": [
      "[3228.7386454183275, 3179.9872509960173, 3243.605577689243, 3067.547410358565, 3132.5637450199215, 3122.8697211155395, 2938.6541832669336, 3060.2366533864556, 3196.2239043824716, 3165.329880478088, 3252.73187250996, 2860.6223107569717, 3075.939043824702, 3004.973705179283, 3120.8450199203157, 2106.1406374501985]\n"
     ]
    }
   ],
   "source": [
    "#define the calibration masses (listed as the headers in the calibration csv) and get slopes for each scale\n",
    "cal_masses=np.array([85,90,92,93,95,100])\n",
    "scales_slopes=[]\n",
    "scales_intercept=[]\n",
    "errors_calibration=[] #list of lists [[error in slope, error in intercept]]\n",
    "for i in range(0,16):\n",
    "    scale_values=np.array(calibration.iloc[i,1:].values.tolist())\n",
    "    #print(i)\n",
    "    output=st.linregress(cal_masses,scale_values)\n",
    "    scales_slopes+=[output.slope]\n",
    "    scales_intercept+=[output.intercept]\n",
    "    errors_calibration+=[[output.stderr,output.intercept_stderr]]\n",
    "\n",
    "#plot the calibration curves\n",
    "\n",
    "print(scales_slopes)"
   ],
   "metadata": {
    "collapsed": false,
    "ExecuteTime": {
     "end_time": "2024-10-22T15:33:05.032328Z",
     "start_time": "2024-10-22T15:33:05.004779Z"
    }
   }
  },
  {
   "cell_type": "code",
   "execution_count": 4,
   "outputs": [],
   "source": [
    "def convert_to_mass(file_name,slopes,intercepts):\n",
    "    cell_=pd.read_csv('./'+file_name+'.csv',header=0)\n",
    "\n",
    "    mass_data=cell_\n",
    "    #print(mass_data)\n",
    "    for i in range(1,17,1):\n",
    "        #print(mass_data.iloc[:,2*(i-1)+1:2*(i-1)+2])\n",
    "        #print(mass_data.iloc[:,2*(i-1)+1:2*(i-1)+2]*slopes[i-1])\n",
    "        mass_data.iloc[:,2*(i-1)+1:2*(i-1)+2]=mass_data.iloc[:,2*(i-1)+1:2*(i-1)+2]/slopes[i-1]\n",
    "        #print(mass_data)\n",
    "\n",
    "    normalization=mass_data.iloc[0,:].to_numpy()\n",
    "    #print(normalization)\n",
    "    #get an updated matrix\n",
    "    update1=mass_data.apply(lambda x: x-normalization, axis=1)\n",
    "    permeance=[0]*16\n",
    "    error=[0]*16\n",
    "    for i in range(1,13,1):\n",
    "        mass = update1.iloc[500:15500, 2 * (i - 1) + 1:2 * (i - 1) + 2].to_numpy()\n",
    "        time = update1.iloc[500:15500, 2 * (i - 1):2 * (i - 1) + 1].to_numpy()\n",
    "        mass=np.reshape(mass,-1)\n",
    "        time=np.reshape(time,-1)\n",
    "        output=st.linregress(time, mass)\n",
    "        # to get permeance in g/(hr*m^2)\n",
    "        # slope is g/min. Multiply by 60min to get per hour\n",
    "        # divide by 10cm^2 area. Multiply by 100^2 for cm^2/m^2\n",
    "        permeance[i-1]=output.slope*60/(10)*(100**2)\n",
    "        error[i - 1] = output.stderr * 60 / (10) * (100 ** 2)\n",
    "    for i in range(13,17,1):\n",
    "        mass = update1.iloc[500:15500, 2 * (i - 1) + 1:2 * (i - 1) + 2].to_numpy()\n",
    "        time = update1.iloc[500:15500, 2 * (i - 1):2 * (i - 1) + 1].to_numpy()\n",
    "        mass=np.reshape(mass,-1)\n",
    "        time=np.reshape(time,-1)\n",
    "        output=st.linregress(time, mass)\n",
    "        # to get permeance in g/(hr*m^2)\n",
    "        # slope is g/min. Multiply by 60min to get per hour\n",
    "        # divide by 10cm^2 area. Multiply by 100^2 for cm^2/m^2\n",
    "        permeance[i-1]=output.slope*60/(10)*(100**2)\n",
    "        error[i - 1] = output.stderr * 60 / (10) * (100 ** 2)\n",
    "\n",
    "\n",
    "    return (update1,permeance,error)"
   ],
   "metadata": {
    "collapsed": false,
    "ExecuteTime": {
     "end_time": "2024-10-22T15:33:09.014373Z",
     "start_time": "2024-10-22T15:33:09.008614Z"
    }
   }
  },
  {
   "cell_type": "code",
   "execution_count": 5,
   "outputs": [
    {
     "name": "stdout",
     "output_type": "stream",
     "text": [
      "[0.019593072817780537, 0.059055339685262435, -0.20050123588757596, -0.030860247932848812, -0.006816112748129572, 0.05006204993533422, -0.08824992550416436, -0.3204440766835065, -0.013425135362912814, -0.2953251569982801, -0.11760290321547073, 0.040944206057255156, -0.02802032173581694, 0.06475033972247461, 0.004889399842832606, -0.14788034855929819]\n",
      "[0.002960879542234491, 0.00219862522008089, 0.0018034600665528052, 0.00833268332055089, 0.0013862500515982293, 0.004588839897912117, 0.001208727966598919, 0.001732479149271505, 0.0013377128816535648, 0.002808263805066154, 0.0023166351317520217, 0.005225153621814182, 0.0016341945760885946, 0.003990807009251999, 0.0029552211158689256, 0.0032387820947008413]\n"
     ]
    }
   ],
   "source": [
    "output=convert_to_mass(name, scales_slopes,scales_intercept)\n",
    "print(output[1])\n",
    "print(output[2])"
   ],
   "metadata": {
    "collapsed": false,
    "ExecuteTime": {
     "end_time": "2024-10-22T15:33:13.417501Z",
     "start_time": "2024-10-22T15:33:11.004587Z"
    }
   }
  },
  {
   "cell_type": "code",
   "execution_count": 6,
   "outputs": [],
   "source": [
    "def plot_curves(numpyarray,save_name,permeance,error):\n",
    "    figure1, ax=plt.subplots(4,4,sharex='col',sharey='row')\n",
    "    for j in range(3):\n",
    "        for k in range(4):\n",
    "            i=(j*4)+k\n",
    "            print(i)\n",
    "            ax[j,k].scatter(numpyarray.iloc[:,2*i],numpyarray.iloc[:,2*i+1])\n",
    "            #ax[j,k].set_xlabel(\"Elapsed Time (minutes)\")\n",
    "            #ax[j,k].set_ylabel(\"Mass (grams)\")\n",
    "            ax[j,k].set_ylim(-3,0.5)\n",
    "            ax[j,k].set_xlim(0,30000)\n",
    "            ax[j,k].text(3000,-2,str(permeance[i])[0:6])\n",
    "            #ax[j,k].text(1000,-0.75,'+/- '+str(error[i])[0:5])\n",
    "    j=3\n",
    "    for k in range(4):\n",
    "            i=(j*4)+k\n",
    "            print(i)\n",
    "            ax[j,k].scatter(numpyarray.iloc[:,2*i],numpyarray.iloc[:,2*i+1])\n",
    "            #ax[j,k].set_xlabel(\"Elapsed Time (minutes)\")\n",
    "            #ax[j,k].set_ylabel(\"Mass (grams)\")\n",
    "            ax[j,k].set_ylim(-5,0.5)\n",
    "            ax[j,k].set_xlim(0,30000)\n",
    "            ax[j,k].text(3000,-1,str(permeance[i])[0:6])\n",
    "            #ax[j,k].text(1000,-0.75,'+/- '+str(error[i])[0:5])\n",
    "    figure1.supxlabel(\"Elapsed Time (minutes)\")\n",
    "    figure1.supylabel(\"Mass (grams)\")\n",
    "    figure1.savefig('./Film_plots/' + save_name+'15000pts.png', dpi=300)\n",
    "    plt.set_cmap('Greens')\n",
    "    figure1.show()"
   ],
   "metadata": {
    "collapsed": false,
    "ExecuteTime": {
     "end_time": "2024-10-22T15:33:17.639530Z",
     "start_time": "2024-10-22T15:33:17.627206Z"
    }
   }
  },
  {
   "cell_type": "code",
   "execution_count": 7,
   "outputs": [
    {
     "name": "stdout",
     "output_type": "stream",
     "text": [
      "0\n",
      "1\n",
      "2\n",
      "3\n",
      "4\n",
      "5\n",
      "6\n",
      "7\n",
      "8\n",
      "9\n",
      "10\n",
      "11\n",
      "12\n",
      "13\n",
      "14\n",
      "15\n"
     ]
    },
    {
     "name": "stderr",
     "output_type": "stream",
     "text": [
      "/var/folders/t5/wsvlnfc52kd7dmby8bpwq66r0000gn/T/ipykernel_35855/3538930492.py:29: UserWarning: Matplotlib is currently using module://matplotlib_inline.backend_inline, which is a non-GUI backend, so cannot show the figure.\n",
      "  figure1.show()\n"
     ]
    },
    {
     "data": {
      "text/plain": "<Figure size 640x480 with 16 Axes>",
      "image/png": "[encoded data removed]"
     },
     "metadata": {},
     "output_type": "display_data"
    }
   ],
   "source": [
    "plot_curves(output[0],name,output[1],output[2])"
   ],
   "metadata": {
    "collapsed": false,
    "ExecuteTime": {
     "end_time": "2024-10-22T15:34:21.325348Z",
     "start_time": "2024-10-22T15:34:15.491163Z"
    }
   }
  },
  {
   "cell_type": "code",
   "execution_count": 8,
   "outputs": [],
   "source": [
    "def convert_to_averages(file_name,slopes,intercepts):\n",
    "    cell_=pd.read_csv('./'+file_name+'.csv',header=0)\n",
    "\n",
    "    mass_data=cell_\n",
    "    #print(mass_data)\n",
    "    for i in range(1,17,1):\n",
    "        #print(mass_data.iloc[:,2*(i-1)+1:2*(i-1)+2])\n",
    "        #print(mass_data.iloc[:,2*(i-1)+1:2*(i-1)+2]*slopes[i-1])\n",
    "        mass_data.iloc[:,2*(i-1)+1:2*(i-1)+2]=mass_data.iloc[:,2*(i-1)+1:2*(i-1)+2]/slopes[i-1]\n",
    "        #print(mass_data)\n",
    "\n",
    "    normalization=mass_data.iloc[0,:].to_numpy()\n",
    "    #print(normalization)\n",
    "    #get an updated matrix\n",
    "    update1=mass_data.apply(lambda x: x-normalization, axis=1)\n",
    "    permeance=[0]*16\n",
    "    error=[0]*16\n",
    "    for i in range(1,17,1):\n",
    "        mass_1= np.average(update1.iloc[500:600, 2 * (i - 1) + 1:2 * (i - 1) + 2].to_numpy())\n",
    "        mass_2=np.average(update1.iloc[5000:5100, 2 * (i - 1) + 1:2 * (i - 1) + 2].to_numpy())\n",
    "        time_1= np.average(update1.iloc[500:600, 2 * (i - 1):2 * (i - 1) + 1].to_numpy())\n",
    "        time_2= np.average(update1.iloc[5000:5100, 2 * (i - 1):2 * (i - 1) + 1].to_numpy())\n",
    "        print('scale ',i)\n",
    "        print('time 1: ',time_1,' mass 1: ',mass_1)\n",
    "        print('time 2: ',time_2,' mass 2: ',mass_2)\n",
    "\n",
    "\n",
    "\n"
   ],
   "metadata": {
    "collapsed": false,
    "ExecuteTime": {
     "end_time": "2024-10-22T15:34:47.063969Z",
     "start_time": "2024-10-22T15:34:47.057964Z"
    }
   }
  },
  {
   "cell_type": "code",
   "execution_count": 9,
   "outputs": [
    {
     "name": "stdout",
     "output_type": "stream",
     "text": [
      "scale  1\n",
      "time 1:  1099.0  mass 1:  -0.10099145078302599\n",
      "time 2:  10099.0  mass 2:  -0.08442987492556867\n",
      "scale  2\n",
      "time 1:  1099.0  mass 1:  -0.0753902393554894\n",
      "time 2:  10099.0  mass 2:  -0.0687128540944792\n",
      "scale  3\n",
      "time 1:  1099.0  mass 1:  0.07919581892661938\n",
      "time 2:  10099.0  mass 2:  0.05710312045153046\n",
      "scale  4\n",
      "time 1:  1099.0  mass 1:  -0.21911902575010062\n",
      "time 2:  10099.0  mass 2:  -0.21420793621025466\n",
      "scale  5\n",
      "time 1:  1099.0  mass 1:  -0.08866571364798062\n",
      "time 2:  10099.0  mass 2:  -0.07942791280641359\n",
      "scale  6\n",
      "time 1:  1099.0  mass 1:  0.08822718352194911\n",
      "time 2:  10099.0  mass 2:  0.10050403251784815\n",
      "scale  7\n",
      "time 1:  1099.0  mass 1:  0.024169567281658005\n",
      "time 2:  10099.0  mass 2:  0.016222051669584802\n",
      "scale  8\n",
      "time 1:  1099.0  mass 1:  -0.11312000972765304\n",
      "time 2:  10099.0  mass 2:  -0.14721737271575008\n",
      "scale  9\n",
      "time 1:  1099.0  mass 1:  -0.08719758325373178\n",
      "time 2:  10099.0  mass 2:  -0.08395344257078989\n",
      "scale  10\n",
      "time 1:  1099.0  mass 1:  -0.046481411276392354\n",
      "time 2:  10099.0  mass 2:  -0.05606903757315692\n",
      "scale  11\n",
      "time 1:  1099.0  mass 1:  -0.0567695116712845\n",
      "time 2:  10099.0  mass 2:  -0.07534835627594774\n",
      "scale  12\n",
      "time 1:  1099.0  mass 1:  0.021649135493025256\n",
      "time 2:  10099.0  mass 2:  0.05085117299579963\n",
      "scale  13\n",
      "time 1:  1099.0  mass 1:  0.1032205110297609\n",
      "time 2:  10099.0  mass 2:  0.10670530050291945\n",
      "scale  14\n",
      "time 1:  1099.0  mass 1:  -0.07976575621506214\n",
      "time 2:  10099.0  mass 2:  -0.04775449440794503\n",
      "scale  15\n",
      "time 1:  1099.0  mass 1:  0.3410005922137026\n",
      "time 2:  10099.0  mass 2:  0.354692717175771\n",
      "scale  16\n",
      "time 1:  1099.0  mass 1:  -0.09560140306858102\n",
      "time 2:  10099.0  mass 2:  -0.09958926591622486\n"
     ]
    }
   ],
   "source": [
    "output=convert_to_averages(name, scales_slopes,scales_intercept)"
   ],
   "metadata": {
    "collapsed": false,
    "ExecuteTime": {
     "end_time": "2024-10-22T15:34:52.943470Z",
     "start_time": "2024-10-22T15:34:50.556089Z"
    }
   }
  },
  {
   "cell_type": "code",
   "execution_count": null,
   "outputs": [],
   "source": [],
   "metadata": {
    "collapsed": false
   }
  }
 ],
 "metadata": {
  "kernelspec": {
   "display_name": "Python 3",
   "language": "python",
   "name": "python3"
  },
  "language_info": {
   "codemirror_mode": {
    "name": "ipython",
    "version": 2
   },
   "file_extension": ".py",
   "mimetype": "text/x-python",
   "name": "python",
   "nbconvert_exporter": "python",
   "pygments_lexer": "ipython2",
   "version": "2.7.6"
  }
 },
 "nbformat": 4,
 "nbformat_minor": 0
}
